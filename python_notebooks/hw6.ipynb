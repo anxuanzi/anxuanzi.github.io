{
 "cells": [
  {
   "cell_type": "markdown",
   "id": "112c49e9eacb9eda",
   "metadata": {},
   "source": [
    "# Homework 6"
   ]
  },
  {
   "cell_type": "markdown",
   "id": "fd6544e050549e4e",
   "metadata": {},
   "source": [
    "#### Add packages"
   ]
  },
  {
   "cell_type": "code",
   "id": "347ac582d8160f03",
   "metadata": {
    "jupyter": {
     "is_executing": true
    }
   },
   "source": [
    "import altair as alt\n",
    "import pandas as pd"
   ],
   "outputs": [],
   "execution_count": null
  },
  {
   "cell_type": "markdown",
   "id": "26ac03df2e53b807",
   "metadata": {},
   "source": [
    "#### Load the dataset"
   ]
  },
  {
   "cell_type": "code",
   "id": "initial_id",
   "metadata": {},
   "source": [
    "file_path = 'https://anxuanzi.github.io/assets/hw6/licenses_fall2022.csv'\n",
    "df = pd.read_csv(file_path)"
   ],
   "outputs": [],
   "execution_count": null
  },
  {
   "cell_type": "markdown",
   "id": "2c621278185adae2",
   "metadata": {},
   "source": [
    "#### Display the first few rows of the dataset\n"
   ]
  },
  {
   "cell_type": "code",
   "id": "11999af7c1c6ed32",
   "metadata": {
    "jupyter": {
     "is_executing": true
    }
   },
   "source": [
    "df.head()"
   ],
   "outputs": [],
   "execution_count": null
  },
  {
   "cell_type": "markdown",
   "id": "ddfcfa24ac5ca3d",
   "metadata": {},
   "source": [
    "#### Selecting a subset of the columns for visualization\n"
   ]
  },
  {
   "cell_type": "code",
   "id": "8f511f59c1ee26b5",
   "metadata": {},
   "source": [
    "columns_of_interest = [\n",
    "    'License Type', 'Description', 'License Status', 'Business', 'Title', 'First Name',\n",
    "    'Last Name', 'License Number', 'Discipline Reason', 'Discipline Start Date',\n",
    "    'Discipline End Date'\n",
    "]\n",
    "df_subset = df[columns_of_interest]"
   ],
   "outputs": [],
   "execution_count": null
  },
  {
   "cell_type": "markdown",
   "id": "ffeae0293be085df",
   "metadata": {},
   "source": [
    "#### Data Cleaning\n"
   ]
  },
  {
   "cell_type": "markdown",
   "id": "fba168cb3730bb94",
   "metadata": {},
   "source": [
    "Convert Discipline Start/End Dates to datetime\n",
    "\n",
    "Filtering rows where Discipline Start Date and Discipline End Date are not 'None'"
   ]
  },
  {
   "cell_type": "code",
   "id": "b3f0c2e45e3241a7",
   "metadata": {},
   "source": [
    "disciplinary_df = df_subset[\n",
    "    (df_subset['Discipline Start Date'] != 'None') &\n",
    "    (df_subset['Discipline End Date'] != 'None')\n",
    "    ]\n",
    "\n",
    "# Converting Discipline Start Date and End Date to datetime\n",
    "disciplinary_df['Discipline Start Date'] = pd.to_datetime(disciplinary_df['Discipline Start Date'], errors='coerce')\n",
    "disciplinary_df['Discipline End Date'] = pd.to_datetime(disciplinary_df['Discipline End Date'], errors='coerce')\n",
    "\n",
    "# Dropping rows where dates could not be parsed\n",
    "disciplinary_df_cleaned = disciplinary_df.dropna(subset=['Discipline Start Date', 'Discipline End Date'])\n",
    "\n",
    "# Creating the First Plot: License Types by Status\n",
    "license_status_counts = df_subset.groupby(['License Type', 'License Status']).size().reset_index(name='Counts')\n",
    "\n"
   ],
   "outputs": [],
   "execution_count": null
  },
  {
   "cell_type": "markdown",
   "id": "5d433dfb7669b609",
   "metadata": {},
   "source": [
    "#### Altair Bar Chart for License Types by Status"
   ]
  },
  {
   "cell_type": "code",
   "id": "2b87006fd8426adc",
   "metadata": {},
   "source": [
    "bar_chart = alt.Chart(license_status_counts).mark_bar().encode(\n",
    "    x=alt.X('License Type:N', sort='-y', title='License Type'),\n",
    "    y=alt.Y('Counts:Q', title='Number of Licenses'),\n",
    "    color=alt.Color('License Status:N', title='License Status'),\n",
    "    tooltip=['License Type', 'License Status', 'Counts']\n",
    ").properties(\n",
    "    width='container',\n",
    "    height=400,\n",
    "    title='Number of Licenses by Type and Status'\n",
    ").interactive()\n",
    "\n",
    "# adding more interactivity\n",
    "\n",
    "license_type_dropdown = alt.binding_select(options=list(license_status_counts['License Type'].unique()), name='Select License Type: ')\n",
    "type_selection = alt.selection_point(fields=['License Type'], bind=license_type_dropdown, name='license_selection')\n",
    "\n",
    "license_status_dropdown = alt.binding_select(\n",
    "    options=list(license_status_counts['License Status'].unique()),\n",
    "    name='Select License Status: '\n",
    ")\n",
    "status_selection = alt.selection_point(fields=['License Status'], bind=license_status_dropdown)\n",
    "\n",
    "interactive_bar_chart = bar_chart.add_params(type_selection, status_selection).encode(\n",
    "    color=alt.condition(\n",
    "        type_selection & status_selection,\n",
    "        'License Status:N',\n",
    "        alt.value('lightgray')\n",
    "    ),\n",
    "    opacity=alt.condition(\n",
    "        type_selection & status_selection,\n",
    "        alt.value(1),\n",
    "        alt.value(0.2)\n",
    "    )\n",
    ")"
   ],
   "outputs": [],
   "execution_count": null
  },
  {
   "cell_type": "markdown",
   "id": "17aac2c8a5d4eab3",
   "metadata": {},
   "source": [
    "#### Timeline of Licenses with Disciplinary Actions"
   ]
  },
  {
   "cell_type": "code",
   "id": "35d19286a7e773f3",
   "metadata": {},
   "source": [
    "disciplinary_chart = alt.Chart(disciplinary_df_cleaned).mark_line().encode(\n",
    "    x=alt.X('yearmonth(Discipline Start Date):T', title='Discipline Start Date'),\n",
    "    x2='yearmonth(Discipline End Date):T',\n",
    "    y=alt.Y('License Type:N', title='License Type'),\n",
    "    color=alt.Color('License Type:N', title='License Type'),\n",
    "    tooltip=['License Type', 'Discipline Reason', 'Discipline Start Date', 'Discipline End Date']\n",
    ").properties(\n",
    "    width='container',\n",
    "    height=400,\n",
    "    title='Timeline of Licenses with Disciplinary Actions'\n",
    ").interactive()"
   ],
   "outputs": [],
   "execution_count": null
  },
  {
   "cell_type": "markdown",
   "id": "514f837638777989",
   "metadata": {},
   "source": [
    "#### Display the plots"
   ]
  },
  {
   "cell_type": "code",
   "id": "48c608c7872d079",
   "metadata": {},
   "source": [
    "interactive_bar_chart.save('../assets/hw6/number_of_licenses_by_type_and_status.json')\n",
    "interactive_bar_chart"
   ],
   "outputs": [],
   "execution_count": null
  },
  {
   "cell_type": "code",
   "id": "7095214f-72ed-4297-ad42-da83b18e2c36",
   "metadata": {},
   "source": [
    "disciplinary_chart.save('../assets/hw6/timeline_of_licenses_with_disciplinary_actions.json')\n",
    "disciplinary_chart"
   ],
   "outputs": [],
   "execution_count": null
  }
 ],
 "metadata": {
  "kernelspec": {
   "display_name": "Python 3 (ipykernel)",
   "language": "python",
   "name": "python3"
  },
  "language_info": {
   "codemirror_mode": {
    "name": "ipython",
    "version": 3
   },
   "file_extension": ".py",
   "mimetype": "text/x-python",
   "name": "python",
   "nbconvert_exporter": "python",
   "pygments_lexer": "ipython3",
   "version": "3.12.7"
  }
 },
 "nbformat": 4,
 "nbformat_minor": 5
}
